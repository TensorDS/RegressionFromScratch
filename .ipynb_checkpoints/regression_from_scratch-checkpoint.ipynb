{
 "cells": [
  {
   "cell_type": "markdown",
   "metadata": {},
   "source": [
    "# Multiple Regression from Scratch"
   ]
  },
  {
   "cell_type": "markdown",
   "metadata": {},
   "source": [
    "*Daniel Wiesenfeld*"
   ]
  },
  {
   "cell_type": "markdown",
   "metadata": {},
   "source": [
    "In this notebook I demostrate how to fit a linear regression and duplicate every metric in `statsmodels`' linear regression summary output from scratch. By that, I mean using only Python with the `numpy` and `scipy` libraries. There is also an accompanying Google sheet and Excel workbook that has shows you how to compute all the metrics using built in formulas only. Though this exercise is mostly for the fun of it (and to learn how all the formulas work), there are actually practical uses. I think you will find that it is far simpler and easier to generate $\\beta$'s with just `numpy`, which you will almost always use anyway in a data science context, than it is using `sklearn` or `statsmodels`. Also, many businesses use spreadsheets all the time. I can think of many instances where having that functionality within a spreadsheet, without the need for plugins, add-ons, or custom programming can be very helpful.\n",
    "\n",
    "Enjoy!"
   ]
  },
  {
   "cell_type": "markdown",
   "metadata": {},
   "source": [
    "## Imports and Data Generation"
   ]
  },
  {
   "cell_type": "markdown",
   "metadata": {},
   "source": [
    "Let's import our libraries and get the data in a `pandas` dataframe."
   ]
  },
  {
   "cell_type": "code",
   "execution_count": 75,
   "metadata": {},
   "outputs": [],
   "source": [
    "from statsmodels.api import OLS, datasets, add_constant\n",
    "import numpy as np\n",
    "import scipy as sp\n",
    "import pandas as pd"
   ]
  },
  {
   "cell_type": "markdown",
   "metadata": {},
   "source": [
    "Let's use the macrodata dataset from `statsmodels` as our example. We will build a multiple regression model to predict unemployment with seven features."
   ]
  },
  {
   "cell_type": "code",
   "execution_count": 2,
   "metadata": {},
   "outputs": [
    {
     "data": {
      "text/html": [
       "<div>\n",
       "<style scoped>\n",
       "    .dataframe tbody tr th:only-of-type {\n",
       "        vertical-align: middle;\n",
       "    }\n",
       "\n",
       "    .dataframe tbody tr th {\n",
       "        vertical-align: top;\n",
       "    }\n",
       "\n",
       "    .dataframe thead th {\n",
       "        text-align: right;\n",
       "    }\n",
       "</style>\n",
       "<table border=\"1\" class=\"dataframe\">\n",
       "  <thead>\n",
       "    <tr style=\"text-align: right;\">\n",
       "      <th></th>\n",
       "      <th>year</th>\n",
       "      <th>quarter</th>\n",
       "      <th>realgdp</th>\n",
       "      <th>realcons</th>\n",
       "      <th>realinv</th>\n",
       "      <th>realgovt</th>\n",
       "      <th>realdpi</th>\n",
       "      <th>cpi</th>\n",
       "      <th>m1</th>\n",
       "      <th>tbilrate</th>\n",
       "      <th>unemp</th>\n",
       "      <th>pop</th>\n",
       "      <th>infl</th>\n",
       "      <th>realint</th>\n",
       "    </tr>\n",
       "  </thead>\n",
       "  <tbody>\n",
       "    <tr>\n",
       "      <th>0</th>\n",
       "      <td>1959.0</td>\n",
       "      <td>1.0</td>\n",
       "      <td>2710.349</td>\n",
       "      <td>1707.4</td>\n",
       "      <td>286.898</td>\n",
       "      <td>470.045</td>\n",
       "      <td>1886.9</td>\n",
       "      <td>28.98</td>\n",
       "      <td>139.7</td>\n",
       "      <td>2.82</td>\n",
       "      <td>5.8</td>\n",
       "      <td>177.146</td>\n",
       "      <td>0.00</td>\n",
       "      <td>0.00</td>\n",
       "    </tr>\n",
       "    <tr>\n",
       "      <th>1</th>\n",
       "      <td>1959.0</td>\n",
       "      <td>2.0</td>\n",
       "      <td>2778.801</td>\n",
       "      <td>1733.7</td>\n",
       "      <td>310.859</td>\n",
       "      <td>481.301</td>\n",
       "      <td>1919.7</td>\n",
       "      <td>29.15</td>\n",
       "      <td>141.7</td>\n",
       "      <td>3.08</td>\n",
       "      <td>5.1</td>\n",
       "      <td>177.830</td>\n",
       "      <td>2.34</td>\n",
       "      <td>0.74</td>\n",
       "    </tr>\n",
       "    <tr>\n",
       "      <th>2</th>\n",
       "      <td>1959.0</td>\n",
       "      <td>3.0</td>\n",
       "      <td>2775.488</td>\n",
       "      <td>1751.8</td>\n",
       "      <td>289.226</td>\n",
       "      <td>491.260</td>\n",
       "      <td>1916.4</td>\n",
       "      <td>29.35</td>\n",
       "      <td>140.5</td>\n",
       "      <td>3.82</td>\n",
       "      <td>5.3</td>\n",
       "      <td>178.657</td>\n",
       "      <td>2.74</td>\n",
       "      <td>1.09</td>\n",
       "    </tr>\n",
       "    <tr>\n",
       "      <th>3</th>\n",
       "      <td>1959.0</td>\n",
       "      <td>4.0</td>\n",
       "      <td>2785.204</td>\n",
       "      <td>1753.7</td>\n",
       "      <td>299.356</td>\n",
       "      <td>484.052</td>\n",
       "      <td>1931.3</td>\n",
       "      <td>29.37</td>\n",
       "      <td>140.0</td>\n",
       "      <td>4.33</td>\n",
       "      <td>5.6</td>\n",
       "      <td>179.386</td>\n",
       "      <td>0.27</td>\n",
       "      <td>4.06</td>\n",
       "    </tr>\n",
       "    <tr>\n",
       "      <th>4</th>\n",
       "      <td>1960.0</td>\n",
       "      <td>1.0</td>\n",
       "      <td>2847.699</td>\n",
       "      <td>1770.5</td>\n",
       "      <td>331.722</td>\n",
       "      <td>462.199</td>\n",
       "      <td>1955.5</td>\n",
       "      <td>29.54</td>\n",
       "      <td>139.6</td>\n",
       "      <td>3.50</td>\n",
       "      <td>5.2</td>\n",
       "      <td>180.007</td>\n",
       "      <td>2.31</td>\n",
       "      <td>1.19</td>\n",
       "    </tr>\n",
       "  </tbody>\n",
       "</table>\n",
       "</div>"
      ],
      "text/plain": [
       "     year  quarter   realgdp  realcons  realinv  realgovt  realdpi    cpi  \\\n",
       "0  1959.0      1.0  2710.349    1707.4  286.898   470.045   1886.9  28.98   \n",
       "1  1959.0      2.0  2778.801    1733.7  310.859   481.301   1919.7  29.15   \n",
       "2  1959.0      3.0  2775.488    1751.8  289.226   491.260   1916.4  29.35   \n",
       "3  1959.0      4.0  2785.204    1753.7  299.356   484.052   1931.3  29.37   \n",
       "4  1960.0      1.0  2847.699    1770.5  331.722   462.199   1955.5  29.54   \n",
       "\n",
       "      m1  tbilrate  unemp      pop  infl  realint  \n",
       "0  139.7      2.82    5.8  177.146  0.00     0.00  \n",
       "1  141.7      3.08    5.1  177.830  2.34     0.74  \n",
       "2  140.5      3.82    5.3  178.657  2.74     1.09  \n",
       "3  140.0      4.33    5.6  179.386  0.27     4.06  \n",
       "4  139.6      3.50    5.2  180.007  2.31     1.19  "
      ]
     },
     "execution_count": 2,
     "metadata": {},
     "output_type": "execute_result"
    }
   ],
   "source": [
    "df = pd.DataFrame(datasets.macrodata.load().data)\n",
    "df.head()"
   ]
  },
  {
   "cell_type": "markdown",
   "metadata": {},
   "source": [
    "We'll create our `X` dataframe, by selecting 7 features of interest and adding a constant, and we will select the 'unemp' column as our `y` series."
   ]
  },
  {
   "cell_type": "code",
   "execution_count": 78,
   "metadata": {},
   "outputs": [],
   "source": [
    "X = df[['realgdp', 'realcons', 'realgovt', 'realdpi', 'cpi', 'm1', 'pop']].pipe(add_constant)\n",
    "y = df['unemp']"
   ]
  },
  {
   "cell_type": "code",
   "execution_count": 79,
   "metadata": {},
   "outputs": [
    {
     "data": {
      "text/html": [
       "<div>\n",
       "<style scoped>\n",
       "    .dataframe tbody tr th:only-of-type {\n",
       "        vertical-align: middle;\n",
       "    }\n",
       "\n",
       "    .dataframe tbody tr th {\n",
       "        vertical-align: top;\n",
       "    }\n",
       "\n",
       "    .dataframe thead th {\n",
       "        text-align: right;\n",
       "    }\n",
       "</style>\n",
       "<table border=\"1\" class=\"dataframe\">\n",
       "  <thead>\n",
       "    <tr style=\"text-align: right;\">\n",
       "      <th></th>\n",
       "      <th>const</th>\n",
       "      <th>realgdp</th>\n",
       "      <th>realcons</th>\n",
       "      <th>realgovt</th>\n",
       "      <th>realdpi</th>\n",
       "      <th>cpi</th>\n",
       "      <th>m1</th>\n",
       "      <th>pop</th>\n",
       "    </tr>\n",
       "  </thead>\n",
       "  <tbody>\n",
       "    <tr>\n",
       "      <th>0</th>\n",
       "      <td>1.0</td>\n",
       "      <td>2710.349</td>\n",
       "      <td>1707.4</td>\n",
       "      <td>470.045</td>\n",
       "      <td>1886.9</td>\n",
       "      <td>28.98</td>\n",
       "      <td>139.7</td>\n",
       "      <td>177.146</td>\n",
       "    </tr>\n",
       "    <tr>\n",
       "      <th>1</th>\n",
       "      <td>1.0</td>\n",
       "      <td>2778.801</td>\n",
       "      <td>1733.7</td>\n",
       "      <td>481.301</td>\n",
       "      <td>1919.7</td>\n",
       "      <td>29.15</td>\n",
       "      <td>141.7</td>\n",
       "      <td>177.830</td>\n",
       "    </tr>\n",
       "    <tr>\n",
       "      <th>2</th>\n",
       "      <td>1.0</td>\n",
       "      <td>2775.488</td>\n",
       "      <td>1751.8</td>\n",
       "      <td>491.260</td>\n",
       "      <td>1916.4</td>\n",
       "      <td>29.35</td>\n",
       "      <td>140.5</td>\n",
       "      <td>178.657</td>\n",
       "    </tr>\n",
       "    <tr>\n",
       "      <th>3</th>\n",
       "      <td>1.0</td>\n",
       "      <td>2785.204</td>\n",
       "      <td>1753.7</td>\n",
       "      <td>484.052</td>\n",
       "      <td>1931.3</td>\n",
       "      <td>29.37</td>\n",
       "      <td>140.0</td>\n",
       "      <td>179.386</td>\n",
       "    </tr>\n",
       "    <tr>\n",
       "      <th>4</th>\n",
       "      <td>1.0</td>\n",
       "      <td>2847.699</td>\n",
       "      <td>1770.5</td>\n",
       "      <td>462.199</td>\n",
       "      <td>1955.5</td>\n",
       "      <td>29.54</td>\n",
       "      <td>139.6</td>\n",
       "      <td>180.007</td>\n",
       "    </tr>\n",
       "  </tbody>\n",
       "</table>\n",
       "</div>"
      ],
      "text/plain": [
       "   const   realgdp  realcons  realgovt  realdpi    cpi     m1      pop\n",
       "0    1.0  2710.349    1707.4   470.045   1886.9  28.98  139.7  177.146\n",
       "1    1.0  2778.801    1733.7   481.301   1919.7  29.15  141.7  177.830\n",
       "2    1.0  2775.488    1751.8   491.260   1916.4  29.35  140.5  178.657\n",
       "3    1.0  2785.204    1753.7   484.052   1931.3  29.37  140.0  179.386\n",
       "4    1.0  2847.699    1770.5   462.199   1955.5  29.54  139.6  180.007"
      ]
     },
     "execution_count": 79,
     "metadata": {},
     "output_type": "execute_result"
    }
   ],
   "source": [
    "X.head()"
   ]
  },
  {
   "cell_type": "code",
   "execution_count": 80,
   "metadata": {},
   "outputs": [
    {
     "data": {
      "text/plain": [
       "0    5.8\n",
       "1    5.1\n",
       "2    5.3\n",
       "3    5.6\n",
       "4    5.2\n",
       "Name: unemp, dtype: float64"
      ]
     },
     "execution_count": 80,
     "metadata": {},
     "output_type": "execute_result"
    }
   ],
   "source": [
    "y.head()"
   ]
  },
  {
   "cell_type": "markdown",
   "metadata": {},
   "source": [
    "Run the following code if you want to copy X & y as a single dataframe to the clopboard so you can paste in Sheets or Excel:"
   ]
  },
  {
   "cell_type": "code",
   "execution_count": 84,
   "metadata": {},
   "outputs": [],
   "source": [
    "X.assign(y = y).to_clipboard()\n",
    "# now just paste in Sheets or Excel"
   ]
  },
  {
   "cell_type": "markdown",
   "metadata": {},
   "source": [
    "## Statsmodels Output"
   ]
  },
  {
   "cell_type": "markdown",
   "metadata": {},
   "source": [
    "OK let's take a look at what `statsmodels` gives us"
   ]
  },
  {
   "cell_type": "code",
   "execution_count": 7,
   "metadata": {},
   "outputs": [
    {
     "data": {
      "text/html": [
       "<table class=\"simpletable\">\n",
       "<caption>OLS Regression Results</caption>\n",
       "<tr>\n",
       "  <th>Dep. Variable:</th>          <td>unemp</td>      <th>  R-squared:         </th> <td>   0.876</td>\n",
       "</tr>\n",
       "<tr>\n",
       "  <th>Model:</th>                   <td>OLS</td>       <th>  Adj. R-squared:    </th> <td>   0.872</td>\n",
       "</tr>\n",
       "<tr>\n",
       "  <th>Method:</th>             <td>Least Squares</td>  <th>  F-statistic:       </th> <td>   197.6</td>\n",
       "</tr>\n",
       "<tr>\n",
       "  <th>Date:</th>             <td>Mon, 15 May 2023</td> <th>  Prob (F-statistic):</th> <td>6.21e-85</td>\n",
       "</tr>\n",
       "<tr>\n",
       "  <th>Time:</th>                 <td>09:42:54</td>     <th>  Log-Likelihood:    </th> <td> -151.94</td>\n",
       "</tr>\n",
       "<tr>\n",
       "  <th>No. Observations:</th>      <td>   203</td>      <th>  AIC:               </th> <td>   319.9</td>\n",
       "</tr>\n",
       "<tr>\n",
       "  <th>Df Residuals:</th>          <td>   195</td>      <th>  BIC:               </th> <td>   346.4</td>\n",
       "</tr>\n",
       "<tr>\n",
       "  <th>Df Model:</th>              <td>     7</td>      <th>                     </th>     <td> </td>   \n",
       "</tr>\n",
       "<tr>\n",
       "  <th>Covariance Type:</th>      <td>nonrobust</td>    <th>                     </th>     <td> </td>   \n",
       "</tr>\n",
       "</table>\n",
       "<table class=\"simpletable\">\n",
       "<tr>\n",
       "      <td></td>        <th>coef</th>     <th>std err</th>      <th>t</th>      <th>P>|t|</th>  <th>[0.025</th>    <th>0.975]</th>  \n",
       "</tr>\n",
       "<tr>\n",
       "  <th>constant</th> <td>  -17.5391</td> <td>    2.806</td> <td>   -6.250</td> <td> 0.000</td> <td>  -23.074</td> <td>  -12.004</td>\n",
       "</tr>\n",
       "<tr>\n",
       "  <th>realgdp</th>  <td>   -0.0116</td> <td>    0.000</td> <td>  -27.105</td> <td> 0.000</td> <td>   -0.012</td> <td>   -0.011</td>\n",
       "</tr>\n",
       "<tr>\n",
       "  <th>realcons</th> <td>    0.0087</td> <td>    0.001</td> <td>   10.055</td> <td> 0.000</td> <td>    0.007</td> <td>    0.010</td>\n",
       "</tr>\n",
       "<tr>\n",
       "  <th>realgovt</th> <td>   -0.0030</td> <td>    0.001</td> <td>   -4.824</td> <td> 0.000</td> <td>   -0.004</td> <td>   -0.002</td>\n",
       "</tr>\n",
       "<tr>\n",
       "  <th>realdpi</th>  <td>    0.0029</td> <td>    0.001</td> <td>    4.112</td> <td> 0.000</td> <td>    0.002</td> <td>    0.004</td>\n",
       "</tr>\n",
       "<tr>\n",
       "  <th>cpi</th>      <td>    0.0799</td> <td>    0.006</td> <td>   13.065</td> <td> 0.000</td> <td>    0.068</td> <td>    0.092</td>\n",
       "</tr>\n",
       "<tr>\n",
       "  <th>m1</th>       <td>   -0.0030</td> <td>    0.001</td> <td>   -4.945</td> <td> 0.000</td> <td>   -0.004</td> <td>   -0.002</td>\n",
       "</tr>\n",
       "<tr>\n",
       "  <th>pop</th>      <td>    0.1907</td> <td>    0.018</td> <td>   10.646</td> <td> 0.000</td> <td>    0.155</td> <td>    0.226</td>\n",
       "</tr>\n",
       "</table>\n",
       "<table class=\"simpletable\">\n",
       "<tr>\n",
       "  <th>Omnibus:</th>       <td> 0.415</td> <th>  Durbin-Watson:     </th> <td>   0.779</td>\n",
       "</tr>\n",
       "<tr>\n",
       "  <th>Prob(Omnibus):</th> <td> 0.813</td> <th>  Jarque-Bera (JB):  </th> <td>   0.204</td>\n",
       "</tr>\n",
       "<tr>\n",
       "  <th>Skew:</th>          <td> 0.057</td> <th>  Prob(JB):          </th> <td>   0.903</td>\n",
       "</tr>\n",
       "<tr>\n",
       "  <th>Kurtosis:</th>      <td> 3.106</td> <th>  Cond. No.          </th> <td>8.61e+05</td>\n",
       "</tr>\n",
       "</table><br/><br/>Notes:<br/>[1] Standard Errors assume that the covariance matrix of the errors is correctly specified.<br/>[2] The condition number is large, 8.61e+05. This might indicate that there are<br/>strong multicollinearity or other numerical problems."
      ],
      "text/plain": [
       "<class 'statsmodels.iolib.summary.Summary'>\n",
       "\"\"\"\n",
       "                            OLS Regression Results                            \n",
       "==============================================================================\n",
       "Dep. Variable:                  unemp   R-squared:                       0.876\n",
       "Model:                            OLS   Adj. R-squared:                  0.872\n",
       "Method:                 Least Squares   F-statistic:                     197.6\n",
       "Date:                Mon, 15 May 2023   Prob (F-statistic):           6.21e-85\n",
       "Time:                        09:42:54   Log-Likelihood:                -151.94\n",
       "No. Observations:                 203   AIC:                             319.9\n",
       "Df Residuals:                     195   BIC:                             346.4\n",
       "Df Model:                           7                                         \n",
       "Covariance Type:            nonrobust                                         \n",
       "==============================================================================\n",
       "                 coef    std err          t      P>|t|      [0.025      0.975]\n",
       "------------------------------------------------------------------------------\n",
       "constant     -17.5391      2.806     -6.250      0.000     -23.074     -12.004\n",
       "realgdp       -0.0116      0.000    -27.105      0.000      -0.012      -0.011\n",
       "realcons       0.0087      0.001     10.055      0.000       0.007       0.010\n",
       "realgovt      -0.0030      0.001     -4.824      0.000      -0.004      -0.002\n",
       "realdpi        0.0029      0.001      4.112      0.000       0.002       0.004\n",
       "cpi            0.0799      0.006     13.065      0.000       0.068       0.092\n",
       "m1            -0.0030      0.001     -4.945      0.000      -0.004      -0.002\n",
       "pop            0.1907      0.018     10.646      0.000       0.155       0.226\n",
       "==============================================================================\n",
       "Omnibus:                        0.415   Durbin-Watson:                   0.779\n",
       "Prob(Omnibus):                  0.813   Jarque-Bera (JB):                0.204\n",
       "Skew:                           0.057   Prob(JB):                        0.903\n",
       "Kurtosis:                       3.106   Cond. No.                     8.61e+05\n",
       "==============================================================================\n",
       "\n",
       "Notes:\n",
       "[1] Standard Errors assume that the covariance matrix of the errors is correctly specified.\n",
       "[2] The condition number is large, 8.61e+05. This might indicate that there are\n",
       "strong multicollinearity or other numerical problems.\n",
       "\"\"\""
      ]
     },
     "execution_count": 7,
     "metadata": {},
     "output_type": "execute_result"
    }
   ],
   "source": [
    "mod = OLS(y, X)\n",
    "res = mod.fit()\n",
    "res.summary()"
   ]
  },
  {
   "cell_type": "markdown",
   "metadata": {},
   "source": [
    "The problem with `statsmodels` output is that the numbers are all rounded to no more than three decimal places. It will be hard to see how accurate our own computations are unless we extract these attributes independently from the `res` object. I show you how to do it below and conveniently save them in variables beginning with the suffix '_sm', so that we can compare them to our own computations."
   ]
  },
  {
   "cell_type": "code",
   "execution_count": 85,
   "metadata": {},
   "outputs": [
    {
     "data": {
      "text/plain": [
       "0.8764203251692085"
      ]
     },
     "execution_count": 85,
     "metadata": {},
     "output_type": "execute_result"
    }
   ],
   "source": [
    "r2_sm = res.rsquared # R-squared\n",
    "r2_sm"
   ]
  },
  {
   "cell_type": "code",
   "execution_count": 87,
   "metadata": {},
   "outputs": [
    {
     "data": {
      "text/plain": [
       "0.8719841317137442"
      ]
     },
     "execution_count": 87,
     "metadata": {},
     "output_type": "execute_result"
    }
   ],
   "source": [
    "r2_adj_sm = res.rsquared_adj # Adj. R-squared\n",
    "r2_adj_sm"
   ]
  },
  {
   "cell_type": "code",
   "execution_count": 88,
   "metadata": {},
   "outputs": [
    {
     "data": {
      "text/plain": [
       "197.56134036257416"
      ]
     },
     "execution_count": 88,
     "metadata": {},
     "output_type": "execute_result"
    }
   ],
   "source": [
    "f_sm = res.fvalue # F-Statistic\n",
    "f_sm"
   ]
  },
  {
   "cell_type": "code",
   "execution_count": 89,
   "metadata": {},
   "outputs": [
    {
     "data": {
      "text/plain": [
       "6.214397666559647e-85"
      ]
     },
     "execution_count": 89,
     "metadata": {},
     "output_type": "execute_result"
    }
   ],
   "source": [
    "pf_sm = res.f_pvalue # Prob(F-Statistic)\n",
    "pf_sm"
   ]
  },
  {
   "cell_type": "code",
   "execution_count": 90,
   "metadata": {},
   "outputs": [
    {
     "data": {
      "text/plain": [
       "-151.94432883403306"
      ]
     },
     "execution_count": 90,
     "metadata": {},
     "output_type": "execute_result"
    }
   ],
   "source": [
    "ll_sm = res.llf # Log-Likelihood\n",
    "ll_sm"
   ]
  },
  {
   "cell_type": "code",
   "execution_count": 91,
   "metadata": {},
   "outputs": [
    {
     "data": {
      "text/plain": [
       "319.8886576680661"
      ]
     },
     "execution_count": 91,
     "metadata": {},
     "output_type": "execute_result"
    }
   ],
   "source": [
    "aic_sm = res.aic # AIC\n",
    "aic_sm"
   ]
  },
  {
   "cell_type": "code",
   "execution_count": 92,
   "metadata": {},
   "outputs": [
    {
     "data": {
      "text/plain": [
       "346.39430550040043"
      ]
     },
     "execution_count": 92,
     "metadata": {},
     "output_type": "execute_result"
    }
   ],
   "source": [
    "bic_sm = res.bic # BIC\n",
    "bic_sm"
   ]
  },
  {
   "cell_type": "code",
   "execution_count": 95,
   "metadata": {},
   "outputs": [
    {
     "data": {
      "text/plain": [
       "constant   -17.539104\n",
       "realgdp     -0.011650\n",
       "realcons     0.008694\n",
       "realgovt    -0.003007\n",
       "realdpi      0.002923\n",
       "cpi          0.079861\n",
       "m1          -0.003043\n",
       "pop          0.190674\n",
       "dtype: float64"
      ]
     },
     "execution_count": 95,
     "metadata": {},
     "output_type": "execute_result"
    }
   ],
   "source": [
    "beta_sm = res.params # coefficients\n",
    "beta_sm"
   ]
  },
  {
   "cell_type": "code",
   "execution_count": 96,
   "metadata": {},
   "outputs": [
    {
     "data": {
      "text/plain": [
       "constant    2.806322\n",
       "realgdp     0.000430\n",
       "realcons    0.000865\n",
       "realgovt    0.000623\n",
       "realdpi     0.000711\n",
       "cpi         0.006113\n",
       "m1          0.000615\n",
       "pop         0.017910\n",
       "dtype: float64"
      ]
     },
     "execution_count": 96,
     "metadata": {},
     "output_type": "execute_result"
    }
   ],
   "source": [
    "se_sm = res.bse # standard erros of coefficients\n",
    "se_sm"
   ]
  },
  {
   "cell_type": "code",
   "execution_count": 97,
   "metadata": {},
   "outputs": [
    {
     "data": {
      "text/plain": [
       "constant    -6.249854\n",
       "realgdp    -27.105072\n",
       "realcons    10.054683\n",
       "realgovt    -4.824153\n",
       "realdpi      4.112236\n",
       "cpi         13.064576\n",
       "m1          -4.944581\n",
       "pop         10.646391\n",
       "dtype: float64"
      ]
     },
     "execution_count": 97,
     "metadata": {},
     "output_type": "execute_result"
    }
   ],
   "source": [
    "t_sm = res.tvalues # t values of coefficients\n",
    "t_sm"
   ]
  },
  {
   "cell_type": "code",
   "execution_count": 98,
   "metadata": {},
   "outputs": [
    {
     "data": {
      "text/plain": [
       "constant    2.532927e-09\n",
       "realgdp     4.704738e-68\n",
       "realcons    1.991447e-19\n",
       "realgovt    2.828657e-06\n",
       "realdpi     5.772642e-05\n",
       "cpi         1.972339e-28\n",
       "m1          1.641259e-06\n",
       "pop         3.691092e-21\n",
       "dtype: float64"
      ]
     },
     "execution_count": 98,
     "metadata": {},
     "output_type": "execute_result"
    }
   ],
   "source": [
    "p_sm = res.pvalues # p values of coefficients\n",
    "p_sm"
   ]
  },
  {
   "cell_type": "code",
   "execution_count": 104,
   "metadata": {},
   "outputs": [
    {
     "data": {
      "text/plain": [
       "constant   -23.073744\n",
       "realgdp     -0.012497\n",
       "realcons     0.006989\n",
       "realgovt    -0.004236\n",
       "realdpi      0.001521\n",
       "cpi          0.067805\n",
       "m1          -0.004256\n",
       "pop          0.155352\n",
       "Name: 0, dtype: float64"
      ]
     },
     "execution_count": 104,
     "metadata": {},
     "output_type": "execute_result"
    }
   ],
   "source": [
    "lb_sm = res.conf_int()[0] # lower bound of 95% confidence interval of coefficients\n",
    "lb_sm"
   ]
  },
  {
   "cell_type": "code",
   "execution_count": 103,
   "metadata": {},
   "outputs": [
    {
     "data": {
      "text/plain": [
       "constant   -12.004463\n",
       "realgdp     -0.010802\n",
       "realcons     0.010399\n",
       "realgovt    -0.001777\n",
       "realdpi      0.004325\n",
       "cpi          0.091916\n",
       "m1          -0.001829\n",
       "pop          0.225995\n",
       "Name: 1, dtype: float64"
      ]
     },
     "execution_count": 103,
     "metadata": {},
     "output_type": "execute_result"
    }
   ],
   "source": [
    "ub_sm = res.conf_int()[1] # upper bound of 95% confidence interval of coefficients\n",
    "ub_sm"
   ]
  },
  {
   "cell_type": "markdown",
   "metadata": {},
   "source": [
    "The bottom-most table of the summary output requires a few more methods from `statsmodels` and access to the model's residuals."
   ]
  },
  {
   "cell_type": "code",
   "execution_count": 106,
   "metadata": {},
   "outputs": [],
   "source": [
    "from statsmodels.stats.stattools import omni_normtest, robust_skewness, robust_kurtosis, durbin_watson, jarque_bera\n",
    "resids_sm = res.resid # residuals (errors)"
   ]
  },
  {
   "cell_type": "code",
   "execution_count": 111,
   "metadata": {},
   "outputs": [
    {
     "data": {
      "text/plain": [
       "0.41478658948228114"
      ]
     },
     "execution_count": 111,
     "metadata": {},
     "output_type": "execute_result"
    }
   ],
   "source": [
    "omni_sm = omni_normtest(resids_sm)[0] # Omnibus statistic of residuals\n",
    "omni_sm"
   ]
  },
  {
   "cell_type": "code",
   "execution_count": 112,
   "metadata": {},
   "outputs": [
    {
     "data": {
      "text/plain": [
       "0.8126999565057904"
      ]
     },
     "execution_count": 112,
     "metadata": {},
     "output_type": "execute_result"
    }
   ],
   "source": [
    "pomni_sm = omni_normtest(resids_sm)[1] # Prob(Omnibus)\n",
    "pomni_sm"
   ]
  },
  {
   "cell_type": "code",
   "execution_count": 113,
   "metadata": {},
   "outputs": [
    {
     "data": {
      "text/plain": [
       "0.056667302727931364"
      ]
     },
     "execution_count": 113,
     "metadata": {},
     "output_type": "execute_result"
    }
   ],
   "source": [
    "skew_sm = robust_skewness(resids)[0] # Skewness of residuals\n",
    "skew_sm"
   ]
  },
  {
   "cell_type": "code",
   "execution_count": 115,
   "metadata": {},
   "outputs": [
    {
     "data": {
      "text/plain": [
       "3.1061908834830367"
      ]
     },
     "execution_count": 115,
     "metadata": {},
     "output_type": "execute_result"
    }
   ],
   "source": [
    "kurt_sm = robust_kurtosis(resids)[0] + 3 # Kurtosis of residuals\n",
    "kurt_sm"
   ]
  },
  {
   "cell_type": "code",
   "execution_count": 116,
   "metadata": {},
   "outputs": [
    {
     "data": {
      "text/plain": [
       "0.778964211500831"
      ]
     },
     "execution_count": 116,
     "metadata": {},
     "output_type": "execute_result"
    }
   ],
   "source": [
    "dw_sm = durbin_watson(resids) # Durbin-Watson\n",
    "dw_sm"
   ]
  },
  {
   "cell_type": "code",
   "execution_count": 118,
   "metadata": {},
   "outputs": [
    {
     "data": {
      "text/plain": [
       "0.20402545897229157"
      ]
     },
     "execution_count": 118,
     "metadata": {},
     "output_type": "execute_result"
    }
   ],
   "source": [
    "jb_sm = jarque_bera(resids)[0] # Jarque-Bera (JB)\n",
    "jb_sm"
   ]
  },
  {
   "cell_type": "code",
   "execution_count": 117,
   "metadata": {},
   "outputs": [
    {
     "data": {
      "text/plain": [
       "0.9030180566398727"
      ]
     },
     "execution_count": 117,
     "metadata": {},
     "output_type": "execute_result"
    }
   ],
   "source": [
    "pjb_sm = jarque_bera(resids)[1] # Prob(JB)\n",
    "pjb_sm"
   ]
  },
  {
   "cell_type": "code",
   "execution_count": 120,
   "metadata": {},
   "outputs": [
    {
     "data": {
      "text/plain": [
       "860663.3059185082"
      ]
     },
     "execution_count": 120,
     "metadata": {},
     "output_type": "execute_result"
    }
   ],
   "source": [
    "cn_sm = res.condition_number #Cond. No.\n",
    "cn_sm"
   ]
  },
  {
   "cell_type": "markdown",
   "metadata": {},
   "source": [
    "Phew!"
   ]
  },
  {
   "cell_type": "markdown",
   "metadata": {},
   "source": [
    "## Coding the Metrics from Scratch"
   ]
  },
  {
   "cell_type": "markdown",
   "metadata": {},
   "source": [
    "### Coefficients"
   ]
  },
  {
   "cell_type": "markdown",
   "metadata": {},
   "source": [
    "Let's start with the most important metrics, the coefficients themselves!\n",
    "Multiple Linear Regression is actually just a linear algebra problem. Pro tip: the `@` operator is a shortcut form matrix multiplication."
   ]
  },
  {
   "cell_type": "code",
   "execution_count": 130,
   "metadata": {},
   "outputs": [
    {
     "data": {
      "text/plain": [
       "0   -17.539104\n",
       "1    -0.011650\n",
       "2     0.008694\n",
       "3    -0.003007\n",
       "4     0.002923\n",
       "5     0.079861\n",
       "6    -0.003043\n",
       "7     0.190674\n",
       "dtype: float64"
      ]
     },
     "execution_count": 130,
     "metadata": {},
     "output_type": "execute_result"
    }
   ],
   "source": [
    "beta = np.linalg.inv(X.T @ X) @ X.T @ y\n",
    "beta"
   ]
  },
  {
   "cell_type": "markdown",
   "metadata": {},
   "source": [
    "That's it! let's compare them to the coefficients we pulled from `statsmodels`."
   ]
  },
  {
   "cell_type": "code",
   "execution_count": 132,
   "metadata": {},
   "outputs": [
    {
     "data": {
      "text/plain": [
       "constant   -2.014140e-10\n",
       "realgdp    -1.008395e-14\n",
       "realcons    9.141299e-14\n",
       "realgovt    2.271707e-14\n",
       "realdpi    -9.579967e-14\n",
       "cpi         1.537936e-13\n",
       "m1         -1.881134e-14\n",
       "pop         1.316003e-12\n",
       "dtype: float64"
      ]
     },
     "execution_count": 132,
     "metadata": {},
     "output_type": "execute_result"
    }
   ],
   "source": [
    "beta.index = beta_sm.index # reindexing beta with the feature names, allows the comparison to work\n",
    "beta - beta_sm"
   ]
  },
  {
   "cell_type": "markdown",
   "metadata": {},
   "source": [
    "Ok so we're off by a teeny tiny fraction ... most likely due to rounding differences between `statsmodels` and `numpy`."
   ]
  },
  {
   "cell_type": "markdown",
   "metadata": {},
   "source": [
    "The standard errors are a bit more involved, so let's jump up to the top table of the summary and compute some things there first, as some of them will come in handy later."
   ]
  },
  {
   "cell_type": "markdown",
   "metadata": {},
   "source": [
    "### The Top Table"
   ]
  },
  {
   "cell_type": "code",
   "execution_count": 138,
   "metadata": {},
   "outputs": [
    {
     "data": {
      "text/plain": [
       "203"
      ]
     },
     "execution_count": 138,
     "metadata": {},
     "output_type": "execute_result"
    }
   ],
   "source": [
    "# The first sixth row of the first column contains number of observations \n",
    "# which is simply the number of rows in X or the length of y, which we'll call n.\n",
    "n = len(y)\n",
    "n"
   ]
  },
  {
   "cell_type": "code",
   "execution_count": 140,
   "metadata": {},
   "outputs": [
    {
     "data": {
      "text/plain": [
       "(195, 7)"
      ]
     },
     "execution_count": 140,
     "metadata": {},
     "output_type": "execute_result"
    }
   ],
   "source": [
    "# The next two rows are the degress of freedom of the residuals which is n less the parameters of the model,\n",
    "# and the degrees of freedom of the model which is the parameters of the model - 1.\n",
    "# We'll start by creating p as the parameters of the model, which is just the columns in X, and then compute the two df's.\n",
    "# These degrees of freedoms are used in various other metrics.\n",
    "\n",
    "p = X.shape[1]\n",
    "dfr = n - p\n",
    "dfm = p- 1\n",
    "dfr, dfm"
   ]
  },
  {
   "cell_type": "markdown",
   "metadata": {},
   "source": [
    "Now let's compute R-squared. R-squared tells us how well $X$ explains $y$. It is computed as: \n",
    "$$R^2 = 1 - \\frac{SSE}{SST}$$\n",
    "\n",
    "\n",
    "SSE or sum of squares of errors is the sum of the squares of each residual or error $e_i$ - the difference between each true value $y_i$ and its predicted value $\\hat{y_i}$:\n",
    "$$ SSE = \\sum_{i=1}^n e_i^2 = \\sum_{i=1}^n (y_i - \\hat{y_i})^2 $$\n",
    "\n",
    "\n",
    "SST or the sum of total squares is the sum of the squares of of the differences between each $y_i$ and $\\bar{y}$ (the average of all $y_i$'s):\n",
    "\n",
    "$$ SST = \\sum_{i=1}^n (y_i - \\bar{y})^2.$$"
   ]
  },
  {
   "cell_type": "code",
   "execution_count": 148,
   "metadata": {},
   "outputs": [
    {
     "data": {
      "text/plain": [
       "0.8764203251692086"
      ]
     },
     "execution_count": 148,
     "metadata": {},
     "output_type": "execute_result"
    }
   ],
   "source": [
    "# let's compute all the things we'll need and the R-squared itself.\n",
    "\n",
    "yhat = X @ np.array(beta).T # for whatever reason, we need to first recast the beta series as an array before the matrix mult\n",
    "e = y - yhat\n",
    "sse = (e**2).sum()\n",
    "ybar = y.mean()\n",
    "sst = ((y - ybar)**2).sum()\n",
    "r2 = 1 - sse/sst\n",
    "r2"
   ]
  },
  {
   "cell_type": "code",
   "execution_count": 150,
   "metadata": {},
   "outputs": [
    {
     "data": {
      "text/plain": [
       "1.1102230246251565e-16"
      ]
     },
     "execution_count": 150,
     "metadata": {},
     "output_type": "execute_result"
    }
   ],
   "source": [
    "# and let's compare to sm\n",
    "r2 - r2_sm"
   ]
  },
  {
   "cell_type": "markdown",
   "metadata": {},
   "source": [
    "Adjusted R-squared is just a version of R squared that is penalized for having additional parameters. As you can see for a two-parameter model (i.e. simple linear regression), it reduces to R-squared:\n",
    "\n",
    "$$ R^2_{adj.} = 1 - \\frac{SSE}{SST}\\left(\\frac{n - 1}{n-p-1}\\right) $$\n",
    "\n"
   ]
  },
  {
   "cell_type": "code",
   "execution_count": 151,
   "metadata": {},
   "outputs": [
    {
     "data": {
      "text/plain": [
       "0.8713242561040214"
      ]
     },
     "execution_count": 151,
     "metadata": {},
     "output_type": "execute_result"
    }
   ],
   "source": [
    "r2_adj = 1 - (sse/sst) * (n - 1)/(n - p - 1)\n",
    "r2_adj"
   ]
  },
  {
   "cell_type": "markdown",
   "metadata": {},
   "source": [
    "The F-statistic is a measure of how well the entire model would generalize to unseen data. The greater the F-statistic, the better we assume the model generalizes. In order to put a probability to that, we take the area under the right tail of the F distribution (i.e. where x >= F-stat) with the degrees of freedom we computed above. That value is the probability that we would see our model results assuming the null hypothesis (that our mode does not generalize at all) were true. Like all p-values, the lower the value, the more confident we can be in our model.\n",
    "\n",
    "The F-Statistic is computed as:\n",
    "\n",
    "$$F_{statistic} = \\frac{MSM}{MSE}$$\n",
    "\n",
    "The denominator of that, the MSE, is the mean version of hte SSE we computed above and is computed as: \n",
    "$$ MSE = \\frac{SSE}{\\text{df}_{residual}}$$,\n",
    "and if you recall $\\text{df}_{residual} = n-p$.\n",
    "\n",
    "The numerator, the MSM, is the mean version of the SSM, sum of squares model, which we have not yet computed. The SSM is the sum of the squares of the differences between each $\\hat{y_i}$ and $\\bar{y}$. You can think of it as how much we gain from the model vs. our baseline guess. If we didn't have our model, and we just had all the values of $y$, if we had to guess the value of a randomly drawn $y_i$, our best guess would be the mean, $\\bar{y}$:\n",
    "$$SSM =\\sum_{i=1}^n (\\hat{y_i} - \\bar{y})^2 $$\n",
    "\n",
    "(Note that $SST = SSE + SSM$)\n",
    "\n",
    "MSM is then computed as:\n",
    "$$ MSM = \\frac{SSM}{\\text{df}_{model}} $$,\n",
    "and if you recall, $\\text{df}_{model} = p-1$."
   ]
  },
  {
   "cell_type": "code",
   "execution_count": 153,
   "metadata": {},
   "outputs": [
    {
     "data": {
      "text/plain": [
       "197.5613403619848"
      ]
     },
     "execution_count": 153,
     "metadata": {},
     "output_type": "execute_result"
    }
   ],
   "source": [
    "ssm = ((yhat - ybar)**2).sum()\n",
    "msm = ssm / dfm\n",
    "\n",
    "mse = sse / dfr\n",
    "f = msm / mse\n",
    "f"
   ]
  },
  {
   "cell_type": "code",
   "execution_count": 136,
   "metadata": {},
   "outputs": [
    {
     "data": {
      "text/html": [
       "<table class=\"simpletable\">\n",
       "<caption>OLS Regression Results</caption>\n",
       "<tr>\n",
       "  <th>Dep. Variable:</th>          <td>unemp</td>      <th>  R-squared:         </th> <td>   0.876</td>\n",
       "</tr>\n",
       "<tr>\n",
       "  <th>Model:</th>                   <td>OLS</td>       <th>  Adj. R-squared:    </th> <td>   0.872</td>\n",
       "</tr>\n",
       "<tr>\n",
       "  <th>Method:</th>             <td>Least Squares</td>  <th>  F-statistic:       </th> <td>   197.6</td>\n",
       "</tr>\n",
       "<tr>\n",
       "  <th>Date:</th>             <td>Mon, 15 May 2023</td> <th>  Prob (F-statistic):</th> <td>6.21e-85</td>\n",
       "</tr>\n",
       "<tr>\n",
       "  <th>Time:</th>                 <td>20:53:05</td>     <th>  Log-Likelihood:    </th> <td> -151.94</td>\n",
       "</tr>\n",
       "<tr>\n",
       "  <th>No. Observations:</th>      <td>   203</td>      <th>  AIC:               </th> <td>   319.9</td>\n",
       "</tr>\n",
       "<tr>\n",
       "  <th>Df Residuals:</th>          <td>   195</td>      <th>  BIC:               </th> <td>   346.4</td>\n",
       "</tr>\n",
       "<tr>\n",
       "  <th>Df Model:</th>              <td>     7</td>      <th>                     </th>     <td> </td>   \n",
       "</tr>\n",
       "<tr>\n",
       "  <th>Covariance Type:</th>      <td>nonrobust</td>    <th>                     </th>     <td> </td>   \n",
       "</tr>\n",
       "</table>\n",
       "<table class=\"simpletable\">\n",
       "<tr>\n",
       "      <td></td>        <th>coef</th>     <th>std err</th>      <th>t</th>      <th>P>|t|</th>  <th>[0.025</th>    <th>0.975]</th>  \n",
       "</tr>\n",
       "<tr>\n",
       "  <th>constant</th> <td>  -17.5391</td> <td>    2.806</td> <td>   -6.250</td> <td> 0.000</td> <td>  -23.074</td> <td>  -12.004</td>\n",
       "</tr>\n",
       "<tr>\n",
       "  <th>realgdp</th>  <td>   -0.0116</td> <td>    0.000</td> <td>  -27.105</td> <td> 0.000</td> <td>   -0.012</td> <td>   -0.011</td>\n",
       "</tr>\n",
       "<tr>\n",
       "  <th>realcons</th> <td>    0.0087</td> <td>    0.001</td> <td>   10.055</td> <td> 0.000</td> <td>    0.007</td> <td>    0.010</td>\n",
       "</tr>\n",
       "<tr>\n",
       "  <th>realgovt</th> <td>   -0.0030</td> <td>    0.001</td> <td>   -4.824</td> <td> 0.000</td> <td>   -0.004</td> <td>   -0.002</td>\n",
       "</tr>\n",
       "<tr>\n",
       "  <th>realdpi</th>  <td>    0.0029</td> <td>    0.001</td> <td>    4.112</td> <td> 0.000</td> <td>    0.002</td> <td>    0.004</td>\n",
       "</tr>\n",
       "<tr>\n",
       "  <th>cpi</th>      <td>    0.0799</td> <td>    0.006</td> <td>   13.065</td> <td> 0.000</td> <td>    0.068</td> <td>    0.092</td>\n",
       "</tr>\n",
       "<tr>\n",
       "  <th>m1</th>       <td>   -0.0030</td> <td>    0.001</td> <td>   -4.945</td> <td> 0.000</td> <td>   -0.004</td> <td>   -0.002</td>\n",
       "</tr>\n",
       "<tr>\n",
       "  <th>pop</th>      <td>    0.1907</td> <td>    0.018</td> <td>   10.646</td> <td> 0.000</td> <td>    0.155</td> <td>    0.226</td>\n",
       "</tr>\n",
       "</table>\n",
       "<table class=\"simpletable\">\n",
       "<tr>\n",
       "  <th>Omnibus:</th>       <td> 0.415</td> <th>  Durbin-Watson:     </th> <td>   0.779</td>\n",
       "</tr>\n",
       "<tr>\n",
       "  <th>Prob(Omnibus):</th> <td> 0.813</td> <th>  Jarque-Bera (JB):  </th> <td>   0.204</td>\n",
       "</tr>\n",
       "<tr>\n",
       "  <th>Skew:</th>          <td> 0.057</td> <th>  Prob(JB):          </th> <td>   0.903</td>\n",
       "</tr>\n",
       "<tr>\n",
       "  <th>Kurtosis:</th>      <td> 3.106</td> <th>  Cond. No.          </th> <td>8.61e+05</td>\n",
       "</tr>\n",
       "</table><br/><br/>Notes:<br/>[1] Standard Errors assume that the covariance matrix of the errors is correctly specified.<br/>[2] The condition number is large, 8.61e+05. This might indicate that there are<br/>strong multicollinearity or other numerical problems."
      ],
      "text/plain": [
       "<class 'statsmodels.iolib.summary.Summary'>\n",
       "\"\"\"\n",
       "                            OLS Regression Results                            \n",
       "==============================================================================\n",
       "Dep. Variable:                  unemp   R-squared:                       0.876\n",
       "Model:                            OLS   Adj. R-squared:                  0.872\n",
       "Method:                 Least Squares   F-statistic:                     197.6\n",
       "Date:                Mon, 15 May 2023   Prob (F-statistic):           6.21e-85\n",
       "Time:                        20:53:05   Log-Likelihood:                -151.94\n",
       "No. Observations:                 203   AIC:                             319.9\n",
       "Df Residuals:                     195   BIC:                             346.4\n",
       "Df Model:                           7                                         \n",
       "Covariance Type:            nonrobust                                         \n",
       "==============================================================================\n",
       "                 coef    std err          t      P>|t|      [0.025      0.975]\n",
       "------------------------------------------------------------------------------\n",
       "constant     -17.5391      2.806     -6.250      0.000     -23.074     -12.004\n",
       "realgdp       -0.0116      0.000    -27.105      0.000      -0.012      -0.011\n",
       "realcons       0.0087      0.001     10.055      0.000       0.007       0.010\n",
       "realgovt      -0.0030      0.001     -4.824      0.000      -0.004      -0.002\n",
       "realdpi        0.0029      0.001      4.112      0.000       0.002       0.004\n",
       "cpi            0.0799      0.006     13.065      0.000       0.068       0.092\n",
       "m1            -0.0030      0.001     -4.945      0.000      -0.004      -0.002\n",
       "pop            0.1907      0.018     10.646      0.000       0.155       0.226\n",
       "==============================================================================\n",
       "Omnibus:                        0.415   Durbin-Watson:                   0.779\n",
       "Prob(Omnibus):                  0.813   Jarque-Bera (JB):                0.204\n",
       "Skew:                           0.057   Prob(JB):                        0.903\n",
       "Kurtosis:                       3.106   Cond. No.                     8.61e+05\n",
       "==============================================================================\n",
       "\n",
       "Notes:\n",
       "[1] Standard Errors assume that the covariance matrix of the errors is correctly specified.\n",
       "[2] The condition number is large, 8.61e+05. This might indicate that there are\n",
       "strong multicollinearity or other numerical problems.\n",
       "\"\"\""
      ]
     },
     "execution_count": 136,
     "metadata": {},
     "output_type": "execute_result"
    }
   ],
   "source": [
    "res.summary()"
   ]
  },
  {
   "cell_type": "code",
   "execution_count": null,
   "metadata": {},
   "outputs": [],
   "source": []
  },
  {
   "cell_type": "code",
   "execution_count": null,
   "metadata": {},
   "outputs": [],
   "source": []
  },
  {
   "cell_type": "code",
   "execution_count": null,
   "metadata": {},
   "outputs": [],
   "source": []
  },
  {
   "cell_type": "code",
   "execution_count": 61,
   "metadata": {},
   "outputs": [
    {
     "data": {
      "text/plain": [
       "0      0.300955\n",
       "1     -0.030197\n",
       "2     -0.163874\n",
       "3      0.025448\n",
       "4     -0.062204\n",
       "         ...   \n",
       "198    1.375159\n",
       "199    1.139917\n",
       "200   -0.457351\n",
       "201    0.091882\n",
       "202    0.872710\n",
       "Length: 203, dtype: float64"
      ]
     },
     "execution_count": 61,
     "metadata": {},
     "output_type": "execute_result"
    }
   ],
   "source": [
    "resids"
   ]
  },
  {
   "cell_type": "code",
   "execution_count": 64,
   "metadata": {},
   "outputs": [],
   "source": []
  },
  {
   "cell_type": "code",
   "execution_count": 70,
   "metadata": {},
   "outputs": [
    {
     "data": {
      "text/plain": [
       "array([7.69015952e+00, 2.90200619e-01, 1.11691444e-02, 5.44482293e-03,\n",
       "       2.65061637e-03, 2.20352640e-05, 2.18543567e-04, 1.34697715e-04])"
      ]
     },
     "execution_count": 70,
     "metadata": {},
     "output_type": "execute_result"
    }
   ],
   "source": [
    "evs"
   ]
  },
  {
   "cell_type": "code",
   "execution_count": 72,
   "metadata": {},
   "outputs": [
    {
     "data": {
      "text/plain": [
       "590.7565501644921"
      ]
     },
     "execution_count": 72,
     "metadata": {},
     "output_type": "execute_result"
    }
   ],
   "source": [
    "X_Norm = X.iloc[:, 0:]/X.iloc[:, 0:].apply(np.linalg.norm)\n",
    "evs = np.linalg.eigvals(X_Norm.T@X_Norm)\n",
    "np.sqrt(max(evs)/min(evs))"
   ]
  },
  {
   "cell_type": "code",
   "execution_count": 63,
   "metadata": {},
   "outputs": [
    {
     "data": {
      "text/plain": [
       "constant        14.247807\n",
       "realgdp     112576.023445\n",
       "realcons     76207.337767\n",
       "realgovt      9660.703425\n",
       "realdpi      83134.873746\n",
       "cpi           1732.003865\n",
       "m1           11508.543780\n",
       "pop           3456.637401\n",
       "dtype: float64"
      ]
     },
     "execution_count": 63,
     "metadata": {},
     "output_type": "execute_result"
    }
   ],
   "source": [
    "X.apply(np.linalg.norm)"
   ]
  },
  {
   "cell_type": "raw",
   "metadata": {},
   "source": [
    "IGM = np.linalg.inv(X.T @ X)\n",
    "IGM"
   ]
  },
  {
   "cell_type": "code",
   "execution_count": 127,
   "metadata": {},
   "outputs": [
    {
     "data": {
      "text/plain": [
       "0    -18.203965\n",
       "1     -0.011142\n",
       "2      0.007961\n",
       "3     -0.000321\n",
       "4     -0.002995\n",
       "5      0.003010\n",
       "6      0.087879\n",
       "7     -0.004386\n",
       "8      0.071531\n",
       "9      0.193646\n",
       "10    -0.119283\n",
       "11    -0.131872\n",
       "dtype: float64"
      ]
     },
     "execution_count": 127,
     "metadata": {},
     "output_type": "execute_result"
    }
   ],
   "source": [
    "b = IGM @ X.T @ y\n",
    "b"
   ]
  },
  {
   "cell_type": "code",
   "execution_count": 239,
   "metadata": {},
   "outputs": [
    {
     "data": {
      "text/plain": [
       "constant   -18.203965\n",
       "realgdp     -0.011142\n",
       "realcons     0.007961\n",
       "realinv     -0.000321\n",
       "realgovt    -0.002995\n",
       "realdpi      0.003010\n",
       "cpi          0.087879\n",
       "m1          -0.004386\n",
       "tbilrate     0.071531\n",
       "pop          0.193646\n",
       "infl        -0.119283\n",
       "realint     -0.131872\n",
       "dtype: float64"
      ]
     },
     "execution_count": 239,
     "metadata": {},
     "output_type": "execute_result"
    }
   ],
   "source": [
    "res.params"
   ]
  },
  {
   "cell_type": "code",
   "execution_count": 128,
   "metadata": {},
   "outputs": [
    {
     "data": {
      "text/plain": [
       "0      5.809808\n",
       "1      5.094347\n",
       "2      5.384577\n",
       "3      5.439211\n",
       "4      5.217286\n",
       "         ...   \n",
       "198    4.719013\n",
       "199    5.684469\n",
       "200    8.556952\n",
       "201    9.125579\n",
       "202    8.724699\n",
       "Length: 203, dtype: float64"
      ]
     },
     "execution_count": 128,
     "metadata": {},
     "output_type": "execute_result"
    }
   ],
   "source": [
    "yh = X @ np.array(b)\n",
    "yh"
   ]
  },
  {
   "cell_type": "code",
   "execution_count": 129,
   "metadata": {},
   "outputs": [
    {
     "data": {
      "text/plain": [
       "0      0.009808\n",
       "1     -0.005653\n",
       "2      0.084577\n",
       "3     -0.160789\n",
       "4      0.017286\n",
       "         ...   \n",
       "198   -1.280987\n",
       "199   -1.215531\n",
       "200    0.456952\n",
       "201   -0.074421\n",
       "202   -0.875301\n",
       "Length: 203, dtype: float64"
      ]
     },
     "execution_count": 129,
     "metadata": {},
     "output_type": "execute_result"
    }
   ],
   "source": [
    "e = yh-y\n",
    "e"
   ]
  },
  {
   "cell_type": "code",
   "execution_count": 205,
   "metadata": {},
   "outputs": [
    {
     "data": {
      "text/plain": [
       "51.53020908619396"
      ]
     },
     "execution_count": 205,
     "metadata": {},
     "output_type": "execute_result"
    }
   ],
   "source": [
    "sse = (e**2).sum()\n",
    "sse"
   ]
  },
  {
   "cell_type": "code",
   "execution_count": 240,
   "metadata": {},
   "outputs": [
    {
     "data": {
      "text/plain": [
       "51.53020908619406"
      ]
     },
     "execution_count": 240,
     "metadata": {},
     "output_type": "execute_result"
    }
   ],
   "source": [
    "res.ssr"
   ]
  },
  {
   "cell_type": "code",
   "execution_count": 177,
   "metadata": {},
   "outputs": [
    {
     "data": {
      "text/plain": [
       "203"
      ]
     },
     "execution_count": 177,
     "metadata": {},
     "output_type": "execute_result"
    }
   ],
   "source": [
    "n = len(y)\n",
    "n"
   ]
  },
  {
   "cell_type": "code",
   "execution_count": 178,
   "metadata": {},
   "outputs": [
    {
     "data": {
      "text/plain": [
       "12"
      ]
     },
     "execution_count": 178,
     "metadata": {},
     "output_type": "execute_result"
    }
   ],
   "source": [
    "p = X.shape[1]\n",
    "p"
   ]
  },
  {
   "cell_type": "code",
   "execution_count": 246,
   "metadata": {},
   "outputs": [
    {
     "data": {
      "text/plain": [
       "0.26979167060834536"
      ]
     },
     "execution_count": 246,
     "metadata": {},
     "output_type": "execute_result"
    }
   ],
   "source": [
    "mse = sse/dfe\n",
    "mse"
   ]
  },
  {
   "cell_type": "code",
   "execution_count": 243,
   "metadata": {},
   "outputs": [
    {
     "data": {
      "text/plain": [
       "0.26979167060834586"
      ]
     },
     "execution_count": 243,
     "metadata": {},
     "output_type": "execute_result"
    }
   ],
   "source": [
    "res.mse_resid"
   ]
  },
  {
   "cell_type": "code",
   "execution_count": 254,
   "metadata": {},
   "outputs": [
    {
     "data": {
      "text/plain": [
       "array([3.23384832e+00, 6.59616837e-04, 9.30922202e-04, 6.35480239e-04,\n",
       "       7.74340976e-04, 7.30971746e-04, 7.36467163e-03, 8.44282484e-04,\n",
       "       1.95455456e-01, 2.09826255e-02, 1.94754872e-01, 1.94644087e-01])"
      ]
     },
     "execution_count": 254,
     "metadata": {},
     "output_type": "execute_result"
    }
   ],
   "source": [
    "se = (np.diag(mse * GM)**(1/2))\n",
    "se"
   ]
  },
  {
   "cell_type": "code",
   "execution_count": 256,
   "metadata": {},
   "outputs": [
    {
     "data": {
      "text/plain": [
       "constant    3.233848\n",
       "realgdp     0.000660\n",
       "realcons    0.000931\n",
       "realinv     0.000635\n",
       "realgovt    0.000774\n",
       "realdpi     0.000731\n",
       "cpi         0.007365\n",
       "m1          0.000844\n",
       "tbilrate    0.195455\n",
       "pop         0.020983\n",
       "infl        0.194755\n",
       "realint     0.194644\n",
       "dtype: float64"
      ]
     },
     "execution_count": 256,
     "metadata": {},
     "output_type": "execute_result"
    }
   ],
   "source": [
    "res.bse"
   ]
  },
  {
   "cell_type": "code",
   "execution_count": 185,
   "metadata": {},
   "outputs": [
    {
     "data": {
      "text/plain": [
       "0     -5.629196\n",
       "1    -16.891324\n",
       "2      8.551655\n",
       "3     -0.504974\n",
       "4     -3.868399\n",
       "5      4.118321\n",
       "6     11.932456\n",
       "7     -5.195064\n",
       "8      0.365969\n",
       "9      9.228855\n",
       "10    -0.612479\n",
       "11    -0.677505\n",
       "dtype: float64"
      ]
     },
     "execution_count": 185,
     "metadata": {},
     "output_type": "execute_result"
    }
   ],
   "source": [
    "t = b/se\n",
    "t"
   ]
  },
  {
   "cell_type": "code",
   "execution_count": 255,
   "metadata": {},
   "outputs": [
    {
     "data": {
      "text/plain": [
       "constant    -5.629196\n",
       "realgdp    -16.891324\n",
       "realcons     8.551655\n",
       "realinv     -0.504974\n",
       "realgovt    -3.868399\n",
       "realdpi      4.118321\n",
       "cpi         11.932456\n",
       "m1          -5.195064\n",
       "tbilrate     0.365969\n",
       "pop          9.228855\n",
       "infl        -0.612479\n",
       "realint     -0.677505\n",
       "dtype: float64"
      ]
     },
     "execution_count": 255,
     "metadata": {},
     "output_type": "execute_result"
    }
   ],
   "source": [
    "res.tvalues"
   ]
  },
  {
   "cell_type": "code",
   "execution_count": 192,
   "metadata": {},
   "outputs": [
    {
     "data": {
      "text/plain": [
       "0     6.386736e-08\n",
       "1     9.338393e-40\n",
       "2     3.881400e-15\n",
       "3     6.141595e-01\n",
       "4     1.501928e-04\n",
       "5     5.677926e-05\n",
       "6     6.920758e-25\n",
       "7     5.224382e-07\n",
       "8     7.147933e-01\n",
       "9     5.217379e-17\n",
       "10    5.409497e-01\n",
       "11    4.989052e-01\n",
       "dtype: float64"
      ]
     },
     "execution_count": 192,
     "metadata": {},
     "output_type": "execute_result"
    }
   ],
   "source": [
    "t.apply(lambda x: sp.stats.t.sf(abs(x), dfe)*2)"
   ]
  },
  {
   "cell_type": "code",
   "execution_count": 257,
   "metadata": {},
   "outputs": [
    {
     "data": {
      "text/plain": [
       "constant    6.386736e-08\n",
       "realgdp     9.338393e-40\n",
       "realcons    3.881400e-15\n",
       "realinv     6.141595e-01\n",
       "realgovt    1.501928e-04\n",
       "realdpi     5.677926e-05\n",
       "cpi         6.920758e-25\n",
       "m1          5.224382e-07\n",
       "tbilrate    7.147933e-01\n",
       "pop         5.217379e-17\n",
       "infl        5.409497e-01\n",
       "realint     4.989052e-01\n",
       "dtype: float64"
      ]
     },
     "execution_count": 257,
     "metadata": {},
     "output_type": "execute_result"
    }
   ],
   "source": [
    "res.pvalues"
   ]
  },
  {
   "cell_type": "code",
   "execution_count": 193,
   "metadata": {},
   "outputs": [
    {
     "data": {
      "text/plain": [
       "0    -24.582607\n",
       "1     -0.012443\n",
       "2      0.006125\n",
       "3     -0.001574\n",
       "4     -0.004523\n",
       "5      0.001569\n",
       "6      0.073352\n",
       "7     -0.006051\n",
       "8     -0.313998\n",
       "9      0.152258\n",
       "10    -0.503430\n",
       "11    -0.515800\n",
       "dtype: float64"
      ]
     },
     "execution_count": 193,
     "metadata": {},
     "output_type": "execute_result"
    }
   ],
   "source": [
    "lb = b - sp.stats.t.isf(0.025, dfe) * se\n",
    "lb"
   ]
  },
  {
   "cell_type": "code",
   "execution_count": 259,
   "metadata": {},
   "outputs": [
    {
     "data": {
      "text/html": [
       "<div>\n",
       "<style scoped>\n",
       "    .dataframe tbody tr th:only-of-type {\n",
       "        vertical-align: middle;\n",
       "    }\n",
       "\n",
       "    .dataframe tbody tr th {\n",
       "        vertical-align: top;\n",
       "    }\n",
       "\n",
       "    .dataframe thead th {\n",
       "        text-align: right;\n",
       "    }\n",
       "</style>\n",
       "<table border=\"1\" class=\"dataframe\">\n",
       "  <thead>\n",
       "    <tr style=\"text-align: right;\">\n",
       "      <th></th>\n",
       "      <th>0</th>\n",
       "      <th>1</th>\n",
       "    </tr>\n",
       "  </thead>\n",
       "  <tbody>\n",
       "    <tr>\n",
       "      <th>constant</th>\n",
       "      <td>-24.582607</td>\n",
       "      <td>-11.825322</td>\n",
       "    </tr>\n",
       "    <tr>\n",
       "      <th>realgdp</th>\n",
       "      <td>-0.012443</td>\n",
       "      <td>-0.009841</td>\n",
       "    </tr>\n",
       "    <tr>\n",
       "      <th>realcons</th>\n",
       "      <td>0.006125</td>\n",
       "      <td>0.009797</td>\n",
       "    </tr>\n",
       "    <tr>\n",
       "      <th>realinv</th>\n",
       "      <td>-0.001574</td>\n",
       "      <td>0.000933</td>\n",
       "    </tr>\n",
       "    <tr>\n",
       "      <th>realgovt</th>\n",
       "      <td>-0.004523</td>\n",
       "      <td>-0.001468</td>\n",
       "    </tr>\n",
       "    <tr>\n",
       "      <th>realdpi</th>\n",
       "      <td>0.001569</td>\n",
       "      <td>0.004452</td>\n",
       "    </tr>\n",
       "    <tr>\n",
       "      <th>cpi</th>\n",
       "      <td>0.073352</td>\n",
       "      <td>0.102405</td>\n",
       "    </tr>\n",
       "    <tr>\n",
       "      <th>m1</th>\n",
       "      <td>-0.006051</td>\n",
       "      <td>-0.002721</td>\n",
       "    </tr>\n",
       "    <tr>\n",
       "      <th>tbilrate</th>\n",
       "      <td>-0.313998</td>\n",
       "      <td>0.457059</td>\n",
       "    </tr>\n",
       "    <tr>\n",
       "      <th>pop</th>\n",
       "      <td>0.152258</td>\n",
       "      <td>0.235033</td>\n",
       "    </tr>\n",
       "    <tr>\n",
       "      <th>infl</th>\n",
       "      <td>-0.503430</td>\n",
       "      <td>0.264863</td>\n",
       "    </tr>\n",
       "    <tr>\n",
       "      <th>realint</th>\n",
       "      <td>-0.515800</td>\n",
       "      <td>0.252056</td>\n",
       "    </tr>\n",
       "  </tbody>\n",
       "</table>\n",
       "</div>"
      ],
      "text/plain": [
       "                  0          1\n",
       "constant -24.582607 -11.825322\n",
       "realgdp   -0.012443  -0.009841\n",
       "realcons   0.006125   0.009797\n",
       "realinv   -0.001574   0.000933\n",
       "realgovt  -0.004523  -0.001468\n",
       "realdpi    0.001569   0.004452\n",
       "cpi        0.073352   0.102405\n",
       "m1        -0.006051  -0.002721\n",
       "tbilrate  -0.313998   0.457059\n",
       "pop        0.152258   0.235033\n",
       "infl      -0.503430   0.264863\n",
       "realint   -0.515800   0.252056"
      ]
     },
     "execution_count": 259,
     "metadata": {},
     "output_type": "execute_result"
    }
   ],
   "source": [
    "res.conf_int()"
   ]
  },
  {
   "cell_type": "code",
   "execution_count": 194,
   "metadata": {},
   "outputs": [
    {
     "data": {
      "text/plain": [
       "0    -11.825322\n",
       "1     -0.009841\n",
       "2      0.009797\n",
       "3      0.000933\n",
       "4     -0.001468\n",
       "5      0.004452\n",
       "6      0.102405\n",
       "7     -0.002721\n",
       "8      0.457059\n",
       "9      0.235033\n",
       "10     0.264863\n",
       "11     0.252056\n",
       "dtype: float64"
      ]
     },
     "execution_count": 194,
     "metadata": {},
     "output_type": "execute_result"
    }
   ],
   "source": [
    "ub = b + sp.stats.t.isf(0.025, dfe) * se\n",
    "ub"
   ]
  },
  {
   "cell_type": "code",
   "execution_count": 172,
   "metadata": {},
   "outputs": [
    {
     "data": {
      "text/plain": [
       "51.53020908619396"
      ]
     },
     "execution_count": 172,
     "metadata": {},
     "output_type": "execute_result"
    }
   ],
   "source": [
    "sse = ((yh - y)**2).sum()\n",
    "sse"
   ]
  },
  {
   "cell_type": "code",
   "execution_count": 196,
   "metadata": {},
   "outputs": [
    {
     "data": {
      "text/plain": [
       "378.2124510096161"
      ]
     },
     "execution_count": 196,
     "metadata": {},
     "output_type": "execute_result"
    }
   ],
   "source": [
    "ssm = ((yh - y.mean())**2).sum()\n",
    "ssm"
   ]
  },
  {
   "cell_type": "code",
   "execution_count": 197,
   "metadata": {},
   "outputs": [
    {
     "data": {
      "text/plain": [
       "429.7426600985222"
      ]
     },
     "execution_count": 197,
     "metadata": {},
     "output_type": "execute_result"
    }
   ],
   "source": [
    "sst = ((y - y.mean())**2).sum()\n",
    "sst"
   ]
  },
  {
   "cell_type": "code",
   "execution_count": 207,
   "metadata": {},
   "outputs": [
    {
     "data": {
      "text/plain": [
       "429.74266009581004"
      ]
     },
     "execution_count": 207,
     "metadata": {},
     "output_type": "execute_result"
    }
   ],
   "source": [
    "ssm + sse"
   ]
  },
  {
   "cell_type": "code",
   "execution_count": null,
   "metadata": {},
   "outputs": [],
   "source": []
  },
  {
   "cell_type": "code",
   "execution_count": 208,
   "metadata": {},
   "outputs": [
    {
     "data": {
      "text/plain": [
       "127.44259307284828"
      ]
     },
     "execution_count": 208,
     "metadata": {},
     "output_type": "execute_result"
    }
   ],
   "source": [
    "f = msm/mse\n",
    "f"
   ]
  },
  {
   "cell_type": "code",
   "execution_count": 237,
   "metadata": {},
   "outputs": [
    {
     "data": {
      "text/plain": [
       "127.44259307376187"
      ]
     },
     "execution_count": 237,
     "metadata": {},
     "output_type": "execute_result"
    }
   ],
   "source": [
    "res.fvalue"
   ]
  },
  {
   "cell_type": "code",
   "execution_count": 212,
   "metadata": {},
   "outputs": [
    {
     "data": {
      "text/plain": [
       "1.071809644299557e-81"
      ]
     },
     "execution_count": 212,
     "metadata": {},
     "output_type": "execute_result"
    }
   ],
   "source": [
    "sp.stats.f.sf(f, dfm, dfe)"
   ]
  },
  {
   "cell_type": "code",
   "execution_count": 234,
   "metadata": {},
   "outputs": [
    {
     "data": {
      "text/plain": [
       "1.071809643657869e-81"
      ]
     },
     "execution_count": 234,
     "metadata": {},
     "output_type": "execute_result"
    }
   ],
   "source": [
    "res.f_pvalue"
   ]
  },
  {
   "cell_type": "code",
   "execution_count": 230,
   "metadata": {},
   "outputs": [
    {
     "data": {
      "text/plain": [
       "-148.88418968708558"
      ]
     },
     "execution_count": 230,
     "metadata": {},
     "output_type": "execute_result"
    }
   ],
   "source": [
    "ll = (n/2) * np.log(1/(2 * np.pi * (sse/n)))- (1/(2 * (sse/n))) * sse \n",
    "ll"
   ]
  },
  {
   "cell_type": "code",
   "execution_count": 221,
   "metadata": {},
   "outputs": [
    {
     "data": {
      "text/plain": [
       "0.8800905428509699"
      ]
     },
     "execution_count": 221,
     "metadata": {},
     "output_type": "execute_result"
    }
   ],
   "source": [
    "r2 = 1 - sse/sst\n",
    "r2"
   ]
  },
  {
   "cell_type": "code",
   "execution_count": 225,
   "metadata": {},
   "outputs": [
    {
     "data": {
      "text/plain": [
       "0.8731847625963137"
      ]
     },
     "execution_count": 225,
     "metadata": {},
     "output_type": "execute_result"
    }
   ],
   "source": [
    "r2_adj = 1 - (sse/dfe)/(sst/(n-1))\n",
    "r2_adj"
   ]
  },
  {
   "cell_type": "code",
   "execution_count": 231,
   "metadata": {},
   "outputs": [
    {
     "data": {
      "text/plain": [
       "321.76837937417116"
      ]
     },
     "execution_count": 231,
     "metadata": {},
     "output_type": "execute_result"
    }
   ],
   "source": [
    "aic = 2*p - 2*ll\n",
    "aic"
   ]
  },
  {
   "cell_type": "code",
   "execution_count": 232,
   "metadata": {},
   "outputs": [
    {
     "data": {
      "text/plain": [
       "361.5268511226726"
      ]
     },
     "execution_count": 232,
     "metadata": {},
     "output_type": "execute_result"
    }
   ],
   "source": [
    "bic = -2 * ll + np.log(n) * k\n",
    "bic"
   ]
  },
  {
   "cell_type": "code",
   "execution_count": 222,
   "metadata": {},
   "outputs": [
    {
     "data": {
      "text/plain": [
       "191"
      ]
     },
     "execution_count": 222,
     "metadata": {},
     "output_type": "execute_result"
    }
   ],
   "source": [
    "dfe"
   ]
  },
  {
   "cell_type": "code",
   "execution_count": 223,
   "metadata": {},
   "outputs": [
    {
     "data": {
      "text/plain": [
       "191"
      ]
     },
     "execution_count": 223,
     "metadata": {},
     "output_type": "execute_result"
    }
   ],
   "source": [
    "n-p"
   ]
  },
  {
   "cell_type": "code",
   "execution_count": null,
   "metadata": {},
   "outputs": [],
   "source": []
  },
  {
   "cell_type": "code",
   "execution_count": 24,
   "metadata": {},
   "outputs": [
    {
     "data": {
      "text/html": [
       "<div>\n",
       "<style scoped>\n",
       "    .dataframe tbody tr th:only-of-type {\n",
       "        vertical-align: middle;\n",
       "    }\n",
       "\n",
       "    .dataframe tbody tr th {\n",
       "        vertical-align: top;\n",
       "    }\n",
       "\n",
       "    .dataframe thead th {\n",
       "        text-align: right;\n",
       "    }\n",
       "</style>\n",
       "<table border=\"1\" class=\"dataframe\">\n",
       "  <thead>\n",
       "    <tr style=\"text-align: right;\">\n",
       "      <th></th>\n",
       "      <th>Country Name</th>\n",
       "      <th>Country Code</th>\n",
       "      <th>Indicator Name</th>\n",
       "      <th>Indicator Code</th>\n",
       "      <th>1960</th>\n",
       "      <th>1961</th>\n",
       "      <th>1962</th>\n",
       "      <th>1963</th>\n",
       "      <th>1964</th>\n",
       "      <th>1965</th>\n",
       "      <th>...</th>\n",
       "      <th>2004</th>\n",
       "      <th>2005</th>\n",
       "      <th>2006</th>\n",
       "      <th>2007</th>\n",
       "      <th>2008</th>\n",
       "      <th>2009</th>\n",
       "      <th>2010</th>\n",
       "      <th>2011</th>\n",
       "      <th>2012</th>\n",
       "      <th>2013</th>\n",
       "    </tr>\n",
       "  </thead>\n",
       "  <tbody>\n",
       "    <tr>\n",
       "      <th>0</th>\n",
       "      <td>Aruba</td>\n",
       "      <td>ABW</td>\n",
       "      <td>Fertility rate, total (births per woman)</td>\n",
       "      <td>SP.DYN.TFRT.IN</td>\n",
       "      <td>4.820</td>\n",
       "      <td>4.655</td>\n",
       "      <td>4.471</td>\n",
       "      <td>4.271</td>\n",
       "      <td>4.059</td>\n",
       "      <td>3.842</td>\n",
       "      <td>...</td>\n",
       "      <td>1.786</td>\n",
       "      <td>1.769</td>\n",
       "      <td>1.754</td>\n",
       "      <td>1.739</td>\n",
       "      <td>1.726</td>\n",
       "      <td>1.713</td>\n",
       "      <td>1.701</td>\n",
       "      <td>1.690</td>\n",
       "      <td>NaN</td>\n",
       "      <td>NaN</td>\n",
       "    </tr>\n",
       "    <tr>\n",
       "      <th>1</th>\n",
       "      <td>Andorra</td>\n",
       "      <td>AND</td>\n",
       "      <td>Fertility rate, total (births per woman)</td>\n",
       "      <td>SP.DYN.TFRT.IN</td>\n",
       "      <td>NaN</td>\n",
       "      <td>NaN</td>\n",
       "      <td>NaN</td>\n",
       "      <td>NaN</td>\n",
       "      <td>NaN</td>\n",
       "      <td>NaN</td>\n",
       "      <td>...</td>\n",
       "      <td>NaN</td>\n",
       "      <td>NaN</td>\n",
       "      <td>1.240</td>\n",
       "      <td>1.180</td>\n",
       "      <td>1.250</td>\n",
       "      <td>1.190</td>\n",
       "      <td>1.220</td>\n",
       "      <td>NaN</td>\n",
       "      <td>NaN</td>\n",
       "      <td>NaN</td>\n",
       "    </tr>\n",
       "    <tr>\n",
       "      <th>2</th>\n",
       "      <td>Afghanistan</td>\n",
       "      <td>AFG</td>\n",
       "      <td>Fertility rate, total (births per woman)</td>\n",
       "      <td>SP.DYN.TFRT.IN</td>\n",
       "      <td>7.671</td>\n",
       "      <td>7.671</td>\n",
       "      <td>7.671</td>\n",
       "      <td>7.671</td>\n",
       "      <td>7.671</td>\n",
       "      <td>7.671</td>\n",
       "      <td>...</td>\n",
       "      <td>7.136</td>\n",
       "      <td>6.930</td>\n",
       "      <td>6.702</td>\n",
       "      <td>6.456</td>\n",
       "      <td>6.196</td>\n",
       "      <td>5.928</td>\n",
       "      <td>5.659</td>\n",
       "      <td>5.395</td>\n",
       "      <td>NaN</td>\n",
       "      <td>NaN</td>\n",
       "    </tr>\n",
       "    <tr>\n",
       "      <th>3</th>\n",
       "      <td>Angola</td>\n",
       "      <td>AGO</td>\n",
       "      <td>Fertility rate, total (births per woman)</td>\n",
       "      <td>SP.DYN.TFRT.IN</td>\n",
       "      <td>7.316</td>\n",
       "      <td>7.354</td>\n",
       "      <td>7.385</td>\n",
       "      <td>7.410</td>\n",
       "      <td>7.425</td>\n",
       "      <td>7.430</td>\n",
       "      <td>...</td>\n",
       "      <td>6.704</td>\n",
       "      <td>6.657</td>\n",
       "      <td>6.598</td>\n",
       "      <td>6.523</td>\n",
       "      <td>6.434</td>\n",
       "      <td>6.331</td>\n",
       "      <td>6.218</td>\n",
       "      <td>6.099</td>\n",
       "      <td>NaN</td>\n",
       "      <td>NaN</td>\n",
       "    </tr>\n",
       "    <tr>\n",
       "      <th>4</th>\n",
       "      <td>Albania</td>\n",
       "      <td>ALB</td>\n",
       "      <td>Fertility rate, total (births per woman)</td>\n",
       "      <td>SP.DYN.TFRT.IN</td>\n",
       "      <td>6.186</td>\n",
       "      <td>6.076</td>\n",
       "      <td>5.956</td>\n",
       "      <td>5.833</td>\n",
       "      <td>5.711</td>\n",
       "      <td>5.594</td>\n",
       "      <td>...</td>\n",
       "      <td>2.004</td>\n",
       "      <td>1.919</td>\n",
       "      <td>1.849</td>\n",
       "      <td>1.796</td>\n",
       "      <td>1.761</td>\n",
       "      <td>1.744</td>\n",
       "      <td>1.741</td>\n",
       "      <td>1.748</td>\n",
       "      <td>NaN</td>\n",
       "      <td>NaN</td>\n",
       "    </tr>\n",
       "    <tr>\n",
       "      <th>...</th>\n",
       "      <td>...</td>\n",
       "      <td>...</td>\n",
       "      <td>...</td>\n",
       "      <td>...</td>\n",
       "      <td>...</td>\n",
       "      <td>...</td>\n",
       "      <td>...</td>\n",
       "      <td>...</td>\n",
       "      <td>...</td>\n",
       "      <td>...</td>\n",
       "      <td>...</td>\n",
       "      <td>...</td>\n",
       "      <td>...</td>\n",
       "      <td>...</td>\n",
       "      <td>...</td>\n",
       "      <td>...</td>\n",
       "      <td>...</td>\n",
       "      <td>...</td>\n",
       "      <td>...</td>\n",
       "      <td>...</td>\n",
       "      <td>...</td>\n",
       "    </tr>\n",
       "    <tr>\n",
       "      <th>214</th>\n",
       "      <td>Yemen, Rep.</td>\n",
       "      <td>YEM</td>\n",
       "      <td>Fertility rate, total (births per woman)</td>\n",
       "      <td>SP.DYN.TFRT.IN</td>\n",
       "      <td>7.292</td>\n",
       "      <td>7.308</td>\n",
       "      <td>7.328</td>\n",
       "      <td>7.354</td>\n",
       "      <td>7.385</td>\n",
       "      <td>7.418</td>\n",
       "      <td>...</td>\n",
       "      <td>5.588</td>\n",
       "      <td>5.393</td>\n",
       "      <td>5.199</td>\n",
       "      <td>5.010</td>\n",
       "      <td>4.829</td>\n",
       "      <td>4.658</td>\n",
       "      <td>4.498</td>\n",
       "      <td>4.348</td>\n",
       "      <td>NaN</td>\n",
       "      <td>NaN</td>\n",
       "    </tr>\n",
       "    <tr>\n",
       "      <th>215</th>\n",
       "      <td>South Africa</td>\n",
       "      <td>ZAF</td>\n",
       "      <td>Fertility rate, total (births per woman)</td>\n",
       "      <td>SP.DYN.TFRT.IN</td>\n",
       "      <td>6.173</td>\n",
       "      <td>6.144</td>\n",
       "      <td>6.103</td>\n",
       "      <td>6.049</td>\n",
       "      <td>5.984</td>\n",
       "      <td>5.911</td>\n",
       "      <td>...</td>\n",
       "      <td>2.721</td>\n",
       "      <td>2.675</td>\n",
       "      <td>2.627</td>\n",
       "      <td>2.580</td>\n",
       "      <td>2.538</td>\n",
       "      <td>2.500</td>\n",
       "      <td>2.467</td>\n",
       "      <td>2.438</td>\n",
       "      <td>NaN</td>\n",
       "      <td>NaN</td>\n",
       "    </tr>\n",
       "    <tr>\n",
       "      <th>216</th>\n",
       "      <td>Congo, Dem. Rep.</td>\n",
       "      <td>COD</td>\n",
       "      <td>Fertility rate, total (births per woman)</td>\n",
       "      <td>SP.DYN.TFRT.IN</td>\n",
       "      <td>6.001</td>\n",
       "      <td>6.015</td>\n",
       "      <td>6.030</td>\n",
       "      <td>6.048</td>\n",
       "      <td>6.067</td>\n",
       "      <td>6.089</td>\n",
       "      <td>...</td>\n",
       "      <td>6.809</td>\n",
       "      <td>6.728</td>\n",
       "      <td>6.642</td>\n",
       "      <td>6.550</td>\n",
       "      <td>6.454</td>\n",
       "      <td>6.354</td>\n",
       "      <td>6.251</td>\n",
       "      <td>6.146</td>\n",
       "      <td>NaN</td>\n",
       "      <td>NaN</td>\n",
       "    </tr>\n",
       "    <tr>\n",
       "      <th>217</th>\n",
       "      <td>Zambia</td>\n",
       "      <td>ZMB</td>\n",
       "      <td>Fertility rate, total (births per woman)</td>\n",
       "      <td>SP.DYN.TFRT.IN</td>\n",
       "      <td>7.018</td>\n",
       "      <td>7.071</td>\n",
       "      <td>7.127</td>\n",
       "      <td>7.184</td>\n",
       "      <td>7.240</td>\n",
       "      <td>7.292</td>\n",
       "      <td>...</td>\n",
       "      <td>5.974</td>\n",
       "      <td>5.954</td>\n",
       "      <td>5.932</td>\n",
       "      <td>5.908</td>\n",
       "      <td>5.881</td>\n",
       "      <td>5.849</td>\n",
       "      <td>5.813</td>\n",
       "      <td>5.773</td>\n",
       "      <td>NaN</td>\n",
       "      <td>NaN</td>\n",
       "    </tr>\n",
       "    <tr>\n",
       "      <th>218</th>\n",
       "      <td>Zimbabwe</td>\n",
       "      <td>ZWE</td>\n",
       "      <td>Fertility rate, total (births per woman)</td>\n",
       "      <td>SP.DYN.TFRT.IN</td>\n",
       "      <td>7.158</td>\n",
       "      <td>7.215</td>\n",
       "      <td>7.267</td>\n",
       "      <td>7.311</td>\n",
       "      <td>7.347</td>\n",
       "      <td>7.373</td>\n",
       "      <td>...</td>\n",
       "      <td>3.987</td>\n",
       "      <td>3.969</td>\n",
       "      <td>3.941</td>\n",
       "      <td>3.903</td>\n",
       "      <td>3.853</td>\n",
       "      <td>3.792</td>\n",
       "      <td>3.721</td>\n",
       "      <td>3.643</td>\n",
       "      <td>NaN</td>\n",
       "      <td>NaN</td>\n",
       "    </tr>\n",
       "  </tbody>\n",
       "</table>\n",
       "<p>219 rows × 58 columns</p>\n",
       "</div>"
      ],
      "text/plain": [
       "         Country Name Country Code                            Indicator Name  \\\n",
       "0               Aruba          ABW  Fertility rate, total (births per woman)   \n",
       "1             Andorra          AND  Fertility rate, total (births per woman)   \n",
       "2         Afghanistan          AFG  Fertility rate, total (births per woman)   \n",
       "3              Angola          AGO  Fertility rate, total (births per woman)   \n",
       "4             Albania          ALB  Fertility rate, total (births per woman)   \n",
       "..                ...          ...                                       ...   \n",
       "214       Yemen, Rep.          YEM  Fertility rate, total (births per woman)   \n",
       "215      South Africa          ZAF  Fertility rate, total (births per woman)   \n",
       "216  Congo, Dem. Rep.          COD  Fertility rate, total (births per woman)   \n",
       "217            Zambia          ZMB  Fertility rate, total (births per woman)   \n",
       "218          Zimbabwe          ZWE  Fertility rate, total (births per woman)   \n",
       "\n",
       "     Indicator Code   1960   1961   1962   1963   1964   1965  ...   2004  \\\n",
       "0    SP.DYN.TFRT.IN  4.820  4.655  4.471  4.271  4.059  3.842  ...  1.786   \n",
       "1    SP.DYN.TFRT.IN    NaN    NaN    NaN    NaN    NaN    NaN  ...    NaN   \n",
       "2    SP.DYN.TFRT.IN  7.671  7.671  7.671  7.671  7.671  7.671  ...  7.136   \n",
       "3    SP.DYN.TFRT.IN  7.316  7.354  7.385  7.410  7.425  7.430  ...  6.704   \n",
       "4    SP.DYN.TFRT.IN  6.186  6.076  5.956  5.833  5.711  5.594  ...  2.004   \n",
       "..              ...    ...    ...    ...    ...    ...    ...  ...    ...   \n",
       "214  SP.DYN.TFRT.IN  7.292  7.308  7.328  7.354  7.385  7.418  ...  5.588   \n",
       "215  SP.DYN.TFRT.IN  6.173  6.144  6.103  6.049  5.984  5.911  ...  2.721   \n",
       "216  SP.DYN.TFRT.IN  6.001  6.015  6.030  6.048  6.067  6.089  ...  6.809   \n",
       "217  SP.DYN.TFRT.IN  7.018  7.071  7.127  7.184  7.240  7.292  ...  5.974   \n",
       "218  SP.DYN.TFRT.IN  7.158  7.215  7.267  7.311  7.347  7.373  ...  3.987   \n",
       "\n",
       "      2005   2006   2007   2008   2009   2010   2011  2012  2013  \n",
       "0    1.769  1.754  1.739  1.726  1.713  1.701  1.690   NaN   NaN  \n",
       "1      NaN  1.240  1.180  1.250  1.190  1.220    NaN   NaN   NaN  \n",
       "2    6.930  6.702  6.456  6.196  5.928  5.659  5.395   NaN   NaN  \n",
       "3    6.657  6.598  6.523  6.434  6.331  6.218  6.099   NaN   NaN  \n",
       "4    1.919  1.849  1.796  1.761  1.744  1.741  1.748   NaN   NaN  \n",
       "..     ...    ...    ...    ...    ...    ...    ...   ...   ...  \n",
       "214  5.393  5.199  5.010  4.829  4.658  4.498  4.348   NaN   NaN  \n",
       "215  2.675  2.627  2.580  2.538  2.500  2.467  2.438   NaN   NaN  \n",
       "216  6.728  6.642  6.550  6.454  6.354  6.251  6.146   NaN   NaN  \n",
       "217  5.954  5.932  5.908  5.881  5.849  5.813  5.773   NaN   NaN  \n",
       "218  3.969  3.941  3.903  3.853  3.792  3.721  3.643   NaN   NaN  \n",
       "\n",
       "[219 rows x 58 columns]"
      ]
     },
     "execution_count": 24,
     "metadata": {},
     "output_type": "execute_result"
    }
   ],
   "source": [
    "data.data"
   ]
  },
  {
   "cell_type": "code",
   "execution_count": null,
   "metadata": {},
   "outputs": [],
   "source": []
  }
 ],
 "metadata": {
  "kernelspec": {
   "display_name": "Python 3 (ipykernel)",
   "language": "python",
   "name": "python3"
  },
  "language_info": {
   "codemirror_mode": {
    "name": "ipython",
    "version": 3
   },
   "file_extension": ".py",
   "mimetype": "text/x-python",
   "name": "python",
   "nbconvert_exporter": "python",
   "pygments_lexer": "ipython3",
   "version": "3.9.13"
  }
 },
 "nbformat": 4,
 "nbformat_minor": 2
}
